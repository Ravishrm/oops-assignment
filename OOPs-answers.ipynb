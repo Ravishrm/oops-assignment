{
  "nbformat": 4,
  "nbformat_minor": 0,
  "metadata": {
    "colab": {
      "provenance": []
    },
    "kernelspec": {
      "name": "python3",
      "display_name": "Python 3"
    },
    "language_info": {
      "name": "python"
    }
  },
  "cells": [
    {
      "cell_type": "markdown",
      "source": [
        "1] What is Object-Oriented Programming (OOP)\n",
        "- OOP (Object-Oriented Programming) is a coding style that organizes software around objects (data + actions) instead of just functions.It has 4 Key Pillars: Encapsulation, Inheritance, Polymorphism, Abstraction.\n",
        "\n",
        "2] What is a class in OOP\n",
        "- A class is a blueprint for creating objects. It defines:\n",
        "\n",
        "      Data (attributes) → Variables (e.g., name, age).\n",
        "\n",
        "      Behavior (methods) → Functions (e.g., eat(), run()\n",
        "\n",
        "3] What is an object in OOP\n",
        "- An object is a real-world entity created from a class (blueprint). It has (data) which are stored in attributes (variables) or Behavior (actions) which are defined by methods (functions).\n",
        "\n",
        "4] What is the difference between abstraction and encapsulation?\n",
        "- Abstraction means to hide complex details,and show only essential features.They are done to simplify usage (user doesn't need to know internal workings).\n",
        "\n",
        "- Encapsulation means to Bundle data (attributes) and methods (functions) into a single unit (class), restricting direct access. It is done to protect data integrity.\n",
        "\n",
        "5] What are dunder methods in Python\n",
        "- Dunder (double underscore __) methods are special predefined methods in Python that enable operator overloading, object behavior customization, and more.They make objects behave like built-in types (e.g., lists, strings).They enable operator overloading (+, -, ==, etc.)and they customize object behavior.\n",
        "\n",
        "6] Explain the concept of inheritance in OOP\n",
        "- Inheritance allows a class (child) to reuse and extend the attributes/methods of another class (parent). They are helpful in avoiding rewriting common logic. It is used to organize code hierarchically and to add new features without modifying the parent.\n",
        "\n",
        "7] What is polymorphism in OOP\n",
        "- Polymorphism lets objects of different classes be treated as objects of a common superclass. It enables:\n",
        "\n",
        "  a) One interface, multiple implementations.\n",
        "\n",
        "  b) Same method name, different behaviors.\n",
        "\n",
        "8] How is encapsulation achieved in Python\n",
        "- Encapsulation in Python is achieved by:\n",
        "\n",
        "  a)Using classes to bundle data (attributes) and methods.\n",
        "\n",
        "  b)Restricting access to variables by prefixing:\n",
        "\n",
        "    -> _var for protected.\n",
        "\n",
        "    -> __var for private.\n",
        "\n",
        "This hides internal object details and allows control via methods (getters/setters).\n",
        "\n",
        "9] What is a constructor in Python\n",
        "- A constructor is a special method that automatically runs when an object is created. It initializes the object's state (sets default values for attributes).\n",
        "\n",
        "10] What are class and static methods in Python\n",
        "- Class Method are defined with\n",
        "\n",
        "    - @classmethod decorator.\n",
        "\n",
        "    - Takes cls as the first parameter.\n",
        "\n",
        "    - Can access/modify class state.\n",
        "\n",
        "    - Used for factory methods or when behavior depends on the class.\n",
        "\n",
        "Static Method:\n",
        "\n",
        "  - Defined with @staticmethod decorator.\n",
        "\n",
        "  - Takes no self or cls parameter.\n",
        "\n",
        "  - Acts like a regular function, but belongs to the class namespace.\n",
        "\n",
        "  - Used when logic is related to the class but doesn’t access class or instance data.\n",
        "\n",
        "\n",
        "11] What is method overloading in Python\n",
        "- Method overloading lets a class have multiple methods with the same name but different parameters. In python they are\n",
        " achieved by Default Arguments, Variable-Length Arguments (*args, **kwargs), Single Dispatch (functools.singledispatch).\n",
        "\n",
        "12] What is method overriding in OOP\n",
        "- Method overriding allows a child class to provide a new implementation for a method already defined in its parent class. They only works with parent-child class relationships.\n",
        "\n",
        "13] What is a property decorator in Python\n",
        "- The @property decorator in Python is used to define a method as a getter, allowing access to it like an attribute.It helps implement encapsulation by controlling access to private attributes.\n",
        "\n",
        "14] Why is polymorphism important in OOP\n",
        "- Polymorphism is important in OOP because it allows:\n",
        "\n",
        "      Code flexibility - Different classes can be treated as the same interface.\n",
        "\n",
        "      Reusability - Same method name can work with different types.\n",
        "\n",
        "      Extensibility - New classes can be added with minimal code change.\n",
        "\n",
        "      Simplified code - Enables writing general, cleaner, and maintainable code.\n",
        "\n",
        "15] What is an abstract class in Python\n",
        "- An abstract class in Python is a class that cannot be instantiated and is used to define a common interface for its subclasses.\n",
        "\n",
        " It is created using the abc module:\n",
        "\n",
        "    - Use from abc import ABC, abstractmethod.\n",
        "\n",
        "    - Inherit from ABC.\n",
        "\n",
        "    - Use @abstractmethod to define methods that must be implemented by subclasses.\n",
        "\n",
        "16]  What are the advantages of OOP?\n",
        "- Advantages of Object-Oriented Programming (OOP):\n",
        "\n",
        " - Modularity – Code is organized into classes and objects, making it easier to manage.\n",
        "\n",
        " - Reusability – Inheritance allows code reuse across multiple classes.\n",
        "\n",
        " - Encapsulation – Hides internal details and protects object integrity.\n",
        "\n",
        " - Polymorphism – Enables flexibility by allowing the same interface for different data types.\n",
        "\n",
        " - Maintainability – Easier to update and modify without affecting other parts of the code.\n",
        "\n",
        " - Scalability – Ideal for large and complex software systems.\n",
        "\n",
        "17] What is the difference between a class variable and an instance variable\n",
        "- Class variable:\n",
        "  - Shared across all instances of a class.\n",
        "  - Inside the class, outside methods.\n",
        "  - Access- ClassName.var or self.__class__.var\n",
        "  - Memory allocation is single copy for the class.\n",
        "  - They are used for constants, default values.\n",
        "- Instance variable:\n",
        "  - Unique to each instance (object).\n",
        "  - Inside __init__ or other methods.\n",
        "  - Access- self.var (per instance).\n",
        "  - Memory allocation is separate copy for each instance.\n",
        "  - They are use for Object-specific properties.\n",
        "\n",
        "18] What is multiple inheritance in Python\n",
        "- Multiple inheritance is a feature where a class can inherit attributes and methods from more than one parent class. This allows a child class to combine functionalities from multiple sources.\n",
        "\n",
        "19]  Explain the purpose of ‘’__str__’ and ‘__repr__’ ‘ methods in Python\n",
        "- a. __str__ (Readable Representation)\n",
        "\n",
        "    Purpose: Provide a user-friendly, informal string representation of an object.\n",
        "\n",
        "    Used by: print(), str(), and f-strings.\n",
        "\n",
        "    Focus: Human readability.\n",
        "\n",
        "b.  __repr__ (Unambiguous Representation)\n",
        "\n",
        "   Purpose: Provide an official, unambiguous string representation (ideally, valid Python code to recreate the object).\n",
        "\n",
        "   Used by: repr(), the Python interpreter (when you just type the object in a REPL).\n",
        "\n",
        "   Focus: Debugging and developer clarity.\n",
        "\n",
        "20] What is the significance of the ‘super()’ function in Python\n",
        "- The super() function in Python is used to call methods from a parent (super) class.\n",
        "\n",
        "- Significance of super():\n",
        "      -Access parent class methods without hardcoding the class name.\n",
        "\n",
        "      -Supports multiple inheritance by following the method resolution order (MRO).\n",
        "\n",
        "      -Makes code more maintainable and extensible.\n",
        "\n",
        "21] What is the significance of the __del__ method in Python\n",
        "- The __del__ method (also called a destructor) is a special method in Python that gets called when an object is about to be destroyed. However, its behavior and use cases require careful understanding due to Python's garbage collection mechanism.\n",
        "\n",
        "22] What is the difference between @staticmethod and @classmethod in Python\n",
        "-  @staticmethod:\n",
        "        -Belongs to the class, but does not take self or cls.\n",
        "\n",
        "        -Can be called on the class or instance.\n",
        "\n",
        "        -Does not access or modify class or instance data.\n",
        "\n",
        "        -Used for utility functions related to the class.\n",
        "\n",
        "\n",
        " @classmethod:\n",
        "        -Belongs to the class and takes cls as the first argument.\n",
        "\n",
        "        -Can access or modify class-level attributes.\n",
        "\n",
        "        -Useful for factory methods or altering class state.\n",
        "\n",
        "23] How does polymorphism work in Python with inheritance\n",
        "- Polymorphism allows objects of different classes to be treated as objects of a common base class, especially when they override the same method.\n",
        "\n",
        " STEPS:\n",
        "\n",
        "    a) A base class defines a method.\n",
        "\n",
        "    b) Subclasses override that method with their own implementation.\n",
        "\n",
        "    c) You can then call the method on different objects and get behavior specific to their class.\n",
        "\n",
        "      ex:\n",
        "      class Animal:\n",
        "        def speak(self):\n",
        "          print(\"Animal speaks\")\n",
        "\n",
        "      class Dog(Animal):\n",
        "        def speak(self):\n",
        "          print(\"Dog barks\")\n",
        "\n",
        "        class Cat(Animal):\n",
        "          def speak(self):\n",
        "            print(\"Cat meows\")\n",
        "\n",
        "        # Polymorphism\n",
        "        animals = [Dog(), Cat()]\n",
        "\n",
        "        for animal in animals:\n",
        "        animal.speak()\n",
        "        \n",
        "        output:\n",
        "        Dog barks\n",
        "        Cat meows\n",
        "\n",
        "24] What is method chaining in Python OOP\n",
        "- Method chaining is a technique where multiple methods are called sequentially on the same object in a single line, using dot (.) notation. Each method returns self (the current object), so the next method can be called on it.\n",
        "\n",
        "25] What is the purpose of the __call__ method in Python\n",
        "- The __call__ method allows an instance of a class to be called like a function. It makes object callable and adds function-like behaviour to objects.\n",
        "\n"
      ],
      "metadata": {
        "id": "RPUe62t0AtJo"
      }
    },
    {
      "cell_type": "code",
      "source": [
        "#PRACTICAL QUESTIONS\n",
        "# 1]  Create a parent class Animal with a method speak() that prints a generic message. Create a child class Dog that overrides the speak() method to print \"Bark!\".\n",
        "\n",
        "# Parent class\n",
        "class Animal:\n",
        "    def speak(self):\n",
        "        print(\"The animal makes a sound.\")\n",
        "\n",
        "# Child class\n",
        "class Dog(Animal):\n",
        "    def speak(self):\n",
        "        print(\"Bark!\")\n",
        "\n",
        "\n",
        "a = Animal()\n",
        "a.speak()\n",
        "\n",
        "d = Dog()\n",
        "d.speak()\n",
        "\n"
      ],
      "metadata": {
        "colab": {
          "base_uri": "https://localhost:8080/"
        },
        "id": "4b2knSer8vPz",
        "outputId": "f1f18dc9-0dd4-4d4b-915d-b9853cb44552"
      },
      "execution_count": null,
      "outputs": [
        {
          "output_type": "stream",
          "name": "stdout",
          "text": [
            "The animal makes a sound.\n",
            "Bark!\n"
          ]
        }
      ]
    },
    {
      "cell_type": "code",
      "source": [
        "# 2] Write a program to create an abstract class Shape with a method area(). Derive classes Circle and Rectangle from it and implement the area() method in both\n",
        "\n",
        "from abc import ABC, abstractmethod\n",
        "import math\n",
        "class Shape(ABC):\n",
        "    @abstractmethod\n",
        "    def area(self):\n",
        "        pass\n",
        "\n",
        "\n",
        "class Circle(Shape):\n",
        "    def __init__(self, radius):\n",
        "        self.radius = radius\n",
        "\n",
        "    def area(self):\n",
        "        return 22/7 * self.radius ** 2\n",
        "\n",
        "\n",
        "class Rectangle(Shape):\n",
        "    def __init__(self, width, height):\n",
        "        self.width = width\n",
        "        self.height = height\n",
        "\n",
        "    def area(self):\n",
        "        return self.width * self.height\n",
        "\n",
        "circle = Circle(7)\n",
        "rectangle = Rectangle(4, 6)\n",
        "print(\"Circle area:\", circle.area())\n",
        "print(\"Rectangle area:\", rectangle.area())"
      ],
      "metadata": {
        "colab": {
          "base_uri": "https://localhost:8080/"
        },
        "id": "u7PZcAiw9gNa",
        "outputId": "1f618074-cb16-4c18-d7e4-51bddb6b704c"
      },
      "execution_count": null,
      "outputs": [
        {
          "output_type": "stream",
          "name": "stdout",
          "text": [
            "Circle area: 154.0\n",
            "Rectangle area: 24\n"
          ]
        }
      ]
    },
    {
      "cell_type": "code",
      "source": [
        "# 3]  Implement a multi-level inheritance scenario where a class Vehicle has an attribute type. Derive a class Car and further derive a class ElectricCar that adds a battery attribute\n",
        "\n",
        "# Base class\n",
        "class Vehicle:\n",
        "    def __init__(self, vehicle_type):\n",
        "        self.vehicle_type = vehicle_type\n",
        "\n",
        "# Derived class from Vehicle\n",
        "class Car(Vehicle):\n",
        "    def __init__(self, vehicle_type, brand):\n",
        "        super().__init__(vehicle_type)\n",
        "        self.brand = brand\n",
        "\n",
        "# Further derived class from Car\n",
        "class ElectricCar(Car):\n",
        "    def __init__(self, vehicle_type, brand, capacity):\n",
        "        super().__init__(vehicle_type, brand)\n",
        "        self.capacity = capacity\n",
        "\n",
        "    def display_info(self):\n",
        "        print(f\"Type: {self.vehicle_type}\")\n",
        "        print(f\"Brand: {self.brand}\")\n",
        "        print(f\"Capacity: {self.capacity} kWh\")\n",
        "\n",
        "# Example usage\n",
        "e_car = ElectricCar(\"Electric\", \"TATA\", 75)\n",
        "e_car.display_info()\n"
      ],
      "metadata": {
        "colab": {
          "base_uri": "https://localhost:8080/"
        },
        "id": "RGSwC7ceAfla",
        "outputId": "7281c77c-2533-4094-9c41-d7a76120dd3b"
      },
      "execution_count": null,
      "outputs": [
        {
          "output_type": "stream",
          "name": "stdout",
          "text": [
            "Type: Electric\n",
            "Brand: TATA\n",
            "Capacity: 75 kWh\n"
          ]
        }
      ]
    },
    {
      "cell_type": "code",
      "source": [
        "# 4] Demonstrate polymorphism by creating a base class Bird with a method fly(). Create two derived classes Sparrow and Penguin that override the fly() method.\n",
        "\n",
        "# Base class\n",
        "class Bird:\n",
        "    def fly(self):\n",
        "        print(\"Bird is flying.\")\n",
        "\n",
        "# Derived class: Sparrow\n",
        "class Sparrow(Bird):\n",
        "    def fly(self):\n",
        "        print(\"Sparrow flies.\")\n",
        "\n",
        "# Derived class: Penguin\n",
        "class Penguin(Bird):\n",
        "    def fly(self):\n",
        "        print(\"Penguins can't fly, they swim.\")\n",
        "\n",
        "# Function to demonstrate polymorphism\n",
        "def bird_flight(bird):\n",
        "    bird.fly()\n",
        "\n",
        "sparrow = Sparrow()\n",
        "penguin = Penguin()\n",
        "\n",
        "bird_flight(sparrow)\n",
        "bird_flight(penguin)\n",
        "\n"
      ],
      "metadata": {
        "colab": {
          "base_uri": "https://localhost:8080/"
        },
        "id": "_-zLw_D4BT5x",
        "outputId": "ce69f615-2bf0-4446-892e-d07973899d9d"
      },
      "execution_count": null,
      "outputs": [
        {
          "output_type": "stream",
          "name": "stdout",
          "text": [
            "Sparrow flies.\n",
            "Penguins can't fly, they swim.\n"
          ]
        }
      ]
    },
    {
      "cell_type": "code",
      "source": [
        "# 5]  Write a program to demonstrate encapsulation by creating a class BankAccount with private attributes balance and methods to deposit, withdraw, and check balance.\n",
        "\n",
        "class BankAccount:\n",
        "    def __init__(self, initial_balance=0):\n",
        "        self.__balance = initial_balance  # Private attribute\n",
        "\n",
        "    def deposit(self, amount):\n",
        "        if amount > 0:\n",
        "            self.__balance += amount\n",
        "            print(f\"Deposited ₹{amount}. New balance: ₹{self.__balance}\")\n",
        "        else:\n",
        "            print(\"Deposit amount must be positive\")\n",
        "\n",
        "    def withdraw(self, amount):\n",
        "        if amount > 0:\n",
        "            if amount <= self.__balance:\n",
        "                self.__balance -= amount\n",
        "                print(f\"Withdrew ₹{amount}. New balance: ₹{self.__balance}\")\n",
        "            else:\n",
        "                print(\"Insufficient funds\")\n",
        "        else:\n",
        "            print(\"Withdrawal amount must be positive\")\n",
        "\n",
        "    def get_balance(self):\n",
        "        return self.__balance\n",
        "\n",
        "# Demonstration\n",
        "if __name__ == \"__main__\":\n",
        "    account = BankAccount(1000)  # Starting with ₹1000\n",
        "\n",
        "    print(\"Initial balance:\", account.get_balance())  # ₹1000\n",
        "\n",
        "    account.deposit(500)    # Deposited ₹500. New balance: ₹1500\n",
        "    account.withdraw(200)   # Withdrew ₹200. New balance: ₹1300\n",
        "    account.withdraw(1500)  # Insufficient funds\n",
        "\n",
        "    # Trying to access balance directly (won't work)\n",
        "    try:\n",
        "        print(account.__balance)  # This will cause an error\n",
        "    except AttributeError as e:\n",
        "        print(\"Error:\", e)  # 'BankAccount' object has no attribute '__balance'"
      ],
      "metadata": {
        "colab": {
          "base_uri": "https://localhost:8080/"
        },
        "id": "eoZyPuIcBxXJ",
        "outputId": "706caf7c-512d-4378-f279-f8961461df2e"
      },
      "execution_count": null,
      "outputs": [
        {
          "output_type": "stream",
          "name": "stdout",
          "text": [
            "Initial balance: 1000\n",
            "Deposited ₹500. New balance: ₹1500\n",
            "Withdrew ₹200. New balance: ₹1300\n",
            "Insufficient funds\n",
            "Error: 'BankAccount' object has no attribute '__balance'\n"
          ]
        }
      ]
    },
    {
      "cell_type": "code",
      "source": [
        "# 6]. Demonstrate runtime polymorphism using a method play() in a base class Instrument. Derive classes Guitar and Piano that implement their own version of play()\n",
        "\n",
        "class Instrument:\n",
        "    def play(self):\n",
        "        print(\"Generic instrument sound\")\n",
        "\n",
        "class Guitar(Instrument):\n",
        "    def play(self):\n",
        "        print(\"Strumming guitar strings\")\n",
        "\n",
        "class Piano(Instrument):\n",
        "    def play(self):\n",
        "        print(\"Pressing piano keys\")\n",
        "\n",
        "\n",
        "def play_instrument(instrument):\n",
        "    instrument.play()\n",
        "\n",
        "generic = Instrument()\n",
        "guitar = Guitar()\n",
        "piano = Piano()\n",
        "\n",
        "play_instrument(generic)\n",
        "play_instrument(guitar)\n",
        "play_instrument(piano)"
      ],
      "metadata": {
        "colab": {
          "base_uri": "https://localhost:8080/"
        },
        "id": "eB2I0mJxDb16",
        "outputId": "979d263f-1457-4558-c137-0fd44ab2821d"
      },
      "execution_count": null,
      "outputs": [
        {
          "output_type": "stream",
          "name": "stdout",
          "text": [
            "Generic instrument sound\n",
            "Strumming guitar strings\n",
            "Pressing piano keys\n"
          ]
        }
      ]
    },
    {
      "cell_type": "code",
      "source": [
        "# 7]  Create a class MathOperations with a class method add_numbers() to add two numbers and a static method subtract_numbers() to subtract two numbers.\n",
        "\n",
        "class MathOperations:\n",
        "\n",
        "    @classmethod\n",
        "    def add_numbers(cls, num1, num2):\n",
        "        \"\"\"Class method to add two numbers\"\"\"\n",
        "        return num1 + num2\n",
        "\n",
        "    @staticmethod\n",
        "    def subtract_numbers(num1, num2):\n",
        "        \"\"\"Static method to subtract two numbers\"\"\"\n",
        "        return num1 - num2\n",
        "\n",
        "# Using the class method\n",
        "sum_result = MathOperations.add_numbers(10, 5)\n",
        "print(f\"Addition result: {sum_result}\")\n",
        "\n",
        "# Using the static method\n",
        "difference_result = MathOperations.subtract_numbers(10, 5)\n",
        "print(f\"Subtraction result: {difference_result}\")"
      ],
      "metadata": {
        "colab": {
          "base_uri": "https://localhost:8080/"
        },
        "id": "rNCICQzdECDL",
        "outputId": "f43723cf-2750-4ba9-c89d-958267805c1d"
      },
      "execution_count": null,
      "outputs": [
        {
          "output_type": "stream",
          "name": "stdout",
          "text": [
            "Addition result: 15\n",
            "Subtraction result: 5\n"
          ]
        }
      ]
    },
    {
      "cell_type": "code",
      "source": [
        "# 8]  Implement a class Person with a class method to count the total number of persons created\n",
        "\n",
        "class Person:\n",
        "    _total_persons = 0\n",
        "\n",
        "    def __init__(self, name):\n",
        "        self.name = name\n",
        "        type(self)._total_persons += 1  # More precise than using Person\n",
        "\n",
        "    @classmethod\n",
        "    def get_total_persons(cls):\n",
        "        return cls._total_persons\n",
        "\n",
        "print(Person.get_total_persons())\n",
        "\n",
        "john = Person(\"Jai\")\n",
        "print(john.get_total_persons())\n",
        "\n",
        "jane = Person(\"Jhanvi\")\n",
        "print(Person.get_total_persons())"
      ],
      "metadata": {
        "colab": {
          "base_uri": "https://localhost:8080/"
        },
        "id": "vV5p74OUEdhI",
        "outputId": "04e75c83-81ec-42be-9912-51ec230e4f83"
      },
      "execution_count": null,
      "outputs": [
        {
          "output_type": "stream",
          "name": "stdout",
          "text": [
            "0\n",
            "1\n",
            "2\n"
          ]
        }
      ]
    },
    {
      "cell_type": "code",
      "source": [
        "# 9] Write a class Fraction with attributes numerator and denominator. Override the str method to display the fraction as \"numerator/denominator\n",
        "\n",
        "class Fraction:\n",
        "    def __init__(self, numerator, denominator):\n",
        "        self.numerator = numerator\n",
        "        self.denominator = denominator\n",
        "\n",
        "    def __str__(self):\n",
        "        return f\"{self.numerator}/{self.denominator}\"\n",
        "\n",
        "half = Fraction(1, 2)\n",
        "three_quarters = Fraction(3, 4)\n",
        "\n",
        "print(half)\n",
        "print(three_quarters)"
      ],
      "metadata": {
        "colab": {
          "base_uri": "https://localhost:8080/"
        },
        "id": "saaBjCN0GHVj",
        "outputId": "ebacf067-e826-493b-be35-4a9437a6c6f4"
      },
      "execution_count": null,
      "outputs": [
        {
          "output_type": "stream",
          "name": "stdout",
          "text": [
            "1/2\n",
            "3/4\n"
          ]
        }
      ]
    },
    {
      "cell_type": "code",
      "source": [
        "# 10]  Demonstrate operator overloading by creating a class Vector and overriding the add method to add two vectors\n",
        "\n",
        "class Vector:\n",
        "    def __init__(self, x, y):\n",
        "        self.x = x\n",
        "        self.y = y\n",
        "\n",
        "    def __add__(self, other):\n",
        "        if isinstance(other, Vector):\n",
        "            return Vector(self.x + other.x, self.y + other.y)\n",
        "        else:\n",
        "            raise TypeError(\"Operands must be of type Vector\")\n",
        "\n",
        "    def __str__(self):\n",
        "        return f\"Vector({self.x}, {self.y})\"\n",
        "\n",
        "\n",
        "v1 = Vector(2, 3)\n",
        "v2 = Vector(4, 5)\n",
        "v3 = v1 + v2\n",
        "\n",
        "print(v1)\n",
        "print(v2)\n",
        "print(v3)"
      ],
      "metadata": {
        "colab": {
          "base_uri": "https://localhost:8080/"
        },
        "id": "i0gqzjnSGo_h",
        "outputId": "6b0f11a7-cab1-4fd4-d51b-1ace5ffbdeb2"
      },
      "execution_count": null,
      "outputs": [
        {
          "output_type": "stream",
          "name": "stdout",
          "text": [
            "Vector(2, 3)\n",
            "Vector(4, 5)\n",
            "Vector(6, 8)\n"
          ]
        }
      ]
    },
    {
      "cell_type": "code",
      "source": [
        "# 11]  Create a class Person with attributes name and age. Add a method greet() that prints \"Hello, my name is {name} and I am {age} years old.\"\n",
        "\n",
        "class Person:\n",
        "    def __init__(self, name, age):\n",
        "        self.name = name\n",
        "        self.age = age\n",
        "\n",
        "    def greet(self):\n",
        "        print(f\"Hello, my name is {self.name} and I am {self.age} years old.\")\n",
        "\n",
        "# Example usage\n",
        "p = Person(\"Abhishek\", 24)\n",
        "p.greet()\n"
      ],
      "metadata": {
        "colab": {
          "base_uri": "https://localhost:8080/"
        },
        "id": "Nxs-BqXd0umm",
        "outputId": "5bc1309e-354b-4322-cb99-5703b69ec1a2"
      },
      "execution_count": 1,
      "outputs": [
        {
          "output_type": "stream",
          "name": "stdout",
          "text": [
            "Hello, my name is Abhishek and I am 24 years old.\n"
          ]
        }
      ]
    },
    {
      "cell_type": "code",
      "source": [
        "# 12]  Implement a class Student with attributes name and grades. Create a method average_grade() to compute the average of the grades.\n",
        "\n",
        "class Student:\n",
        "    def __init__(self, name, grades):\n",
        "        self.name = name\n",
        "        self.grades = grades\n",
        "\n",
        "    def average_grade(self):\n",
        "        if not self.grades:\n",
        "            return 0\n",
        "        return sum(self.grades) / len(self.grades)\n",
        "\n",
        "\n",
        "s = Student(\"Jairam\", [85, 90, 78, 92])\n",
        "print(f\"{s.name} average grade is: {s.average_grade():}\")\n"
      ],
      "metadata": {
        "colab": {
          "base_uri": "https://localhost:8080/"
        },
        "id": "i4_hvMXK1XYv",
        "outputId": "90ccbd09-5d6e-4850-b322-979076a88df0"
      },
      "execution_count": 3,
      "outputs": [
        {
          "output_type": "stream",
          "name": "stdout",
          "text": [
            "Jairam average grade is: 86.25\n"
          ]
        }
      ]
    },
    {
      "cell_type": "code",
      "source": [
        "# 13]  Create a class Rectangle with methods set_dimensions() to set the dimensions and area() to calculate the area.\n",
        "\n",
        "class Rectangle:\n",
        "    def __init__(self):\n",
        "        self.length = 0\n",
        "        self.width = 0\n",
        "\n",
        "    def set_dimensions(self, length, width):\n",
        "        self.length = length\n",
        "        self.width = width\n",
        "\n",
        "    def area(self):\n",
        "        return self.length * self.width\n",
        "\n",
        "rect = Rectangle()\n",
        "rect.set_dimensions(5, 3)\n",
        "print(\"Area of rectangle:\", rect.area())\n"
      ],
      "metadata": {
        "colab": {
          "base_uri": "https://localhost:8080/"
        },
        "id": "ypGGP-lk1zwO",
        "outputId": "d377343b-ec92-4cf2-8c11-ced98466ea77"
      },
      "execution_count": 4,
      "outputs": [
        {
          "output_type": "stream",
          "name": "stdout",
          "text": [
            "Area of rectangle: 15\n"
          ]
        }
      ]
    },
    {
      "cell_type": "code",
      "source": [
        "# 14] Create a class Employee with a method calculate_salary() that computes the salary based on hours worked and hourly rate. Create a derived class Manager that adds a bonus to the salary\n",
        "\n",
        "# Base class\n",
        "class Employee:\n",
        "    def __init__(self, name, hours_worked, hourly_rate):\n",
        "        self.name = name\n",
        "        self.hours_worked = hours_worked\n",
        "        self.hourly_rate = hourly_rate\n",
        "\n",
        "    def calculate_salary(self):\n",
        "        return self.hours_worked * self.hourly_rate\n",
        "\n",
        "# Derived class\n",
        "class Manager(Employee):\n",
        "    def __init__(self, name, hours_worked, hourly_rate, bonus):\n",
        "        super().__init__(name, hours_worked, hourly_rate)\n",
        "        self.bonus = bonus\n",
        "\n",
        "    def calculate_salary(self):\n",
        "        base_salary = super().calculate_salary()\n",
        "        return base_salary + self.bonus\n",
        "\n",
        "emp = Employee(\"Abhishek\", 40, 20)\n",
        "print(f\"{emp.name} salary: Rs.{emp.calculate_salary()}\")\n",
        "\n",
        "mgr = Manager(\"Balram\", 40, 30, 500)\n",
        "print(f\"{mgr.name} salary: Rs.{mgr.calculate_salary()}\")\n"
      ],
      "metadata": {
        "colab": {
          "base_uri": "https://localhost:8080/"
        },
        "id": "_12WwPUa2JPN",
        "outputId": "a509137d-14f0-4a9d-f9a6-e332cfc5e0a8"
      },
      "execution_count": 6,
      "outputs": [
        {
          "output_type": "stream",
          "name": "stdout",
          "text": [
            "Abhishek salary: Rs.800\n",
            "Balram salary: Rs.1700\n"
          ]
        }
      ]
    },
    {
      "cell_type": "code",
      "source": [
        "# 15] Create a class Product with attributes name, price, and quantity. Implement a method total_price() that calculates the total price of the product.\n",
        "\n",
        "class Product:\n",
        "    def __init__(self, name, price, quantity):\n",
        "        self.name = name\n",
        "        self.price = price\n",
        "        self.quantity = quantity\n",
        "\n",
        "    def total_price(self):\n",
        "        return self.price * self.quantity\n",
        "\n",
        "p = Product(\"Washing Machine\", 7500, 2)\n",
        "print(f\"Total price for {p.name}: Rs.{p.total_price()}\")\n"
      ],
      "metadata": {
        "colab": {
          "base_uri": "https://localhost:8080/"
        },
        "id": "wyMXlNea2xr-",
        "outputId": "de697e82-3394-494a-9438-a347a257889e"
      },
      "execution_count": 8,
      "outputs": [
        {
          "output_type": "stream",
          "name": "stdout",
          "text": [
            "Total price for Washing Machine: Rs.15000\n"
          ]
        }
      ]
    },
    {
      "cell_type": "code",
      "source": [
        "# 16]  Create a class Animal with an abstract method sound(). Create two derived classes Cow and Sheep that implement the sound() method.\n",
        "\n",
        "\n",
        "class Animal(ABC):\n",
        "    @abstractmethod\n",
        "    def sound(self):\n",
        "        pass\n",
        "\n",
        "class Dog(Animal):\n",
        "    def sound(self):\n",
        "        print(\"Dogs Bark\")\n",
        "\n",
        "class Cat(Animal):\n",
        "    def sound(self):\n",
        "        print(\"Cat meows\")\n",
        "\n",
        "dog = Dog()\n",
        "cat = Cat()\n",
        "\n",
        "dog.sound()\n",
        "cat.sound()\n"
      ],
      "metadata": {
        "colab": {
          "base_uri": "https://localhost:8080/"
        },
        "id": "NcqhQhib3Lxe",
        "outputId": "0ca7e9cd-e150-460c-c165-83d73ae3a3a4"
      },
      "execution_count": 10,
      "outputs": [
        {
          "output_type": "stream",
          "name": "stdout",
          "text": [
            "Dogs Bark\n",
            "Cat meows\n"
          ]
        }
      ]
    },
    {
      "cell_type": "code",
      "source": [
        "# 17]  Create a class Book with attributes title, author, and year_published. Add a method get_book_info() that returns a formatted string with the book's details\n",
        "\n",
        "class Book:\n",
        "    def __init__(self, title, author, year_published):\n",
        "        self.title = title\n",
        "        self.author = author\n",
        "        self.year_published = year_published\n",
        "\n",
        "    def get_book_info(self):\n",
        "        return f\"'{self.title}' by {self.author} (Published in {self.year_published})\"\n",
        "\n",
        "\n",
        "book = Book(\"Mathematics\", \"RS Agarwall\", 2001)\n",
        "print(book.get_book_info())\n"
      ],
      "metadata": {
        "colab": {
          "base_uri": "https://localhost:8080/"
        },
        "id": "yjVHFzmT382X",
        "outputId": "9f133a31-1d07-40a3-99bf-f36f452574c5"
      },
      "execution_count": 12,
      "outputs": [
        {
          "output_type": "stream",
          "name": "stdout",
          "text": [
            "'Mathematics' by RS Agarwall (Published in 2001)\n"
          ]
        }
      ]
    },
    {
      "cell_type": "code",
      "source": [
        "# 18] Create a class House with attributes address and price. Create a derived class Mansion that adds an attribute number_of_rooms\n",
        "\n",
        "class House:\n",
        "    def __init__(self, address, price):\n",
        "        self.address = address\n",
        "        self.price = price\n",
        "\n",
        "class Mansion(House):\n",
        "    def __init__(self, address, price, number_of_rooms):\n",
        "        super().__init__(address, price)\n",
        "        self.number_of_rooms = number_of_rooms\n",
        "\n",
        "    def display_info(self):\n",
        "        print(f\"Address: {self.address}\")\n",
        "        print(f\"Price: Rs.{self.price}\")\n",
        "        print(f\"Number of Rooms: {self.number_of_rooms}\")\n",
        "\n",
        "mansion = Mansion(\"Sabarmati Niwas\", 250000, 12)\n",
        "mansion.display_info()\n"
      ],
      "metadata": {
        "colab": {
          "base_uri": "https://localhost:8080/"
        },
        "id": "QTQAakhW4cf-",
        "outputId": "f2af72fa-8ab7-465b-877a-f41804122b0c"
      },
      "execution_count": 14,
      "outputs": [
        {
          "output_type": "stream",
          "name": "stdout",
          "text": [
            "Address: Sabarmati Niwas\n",
            "Price: Rs.250000\n",
            "Number of Rooms: 12\n"
          ]
        }
      ]
    }
  ]
}